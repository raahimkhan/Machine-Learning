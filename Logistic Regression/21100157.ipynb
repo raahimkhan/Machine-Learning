{
 "cells": [
  {
   "cell_type": "markdown",
   "metadata": {},
   "source": [
    "# Imports"
   ]
  },
  {
   "cell_type": "code",
   "execution_count": 1,
   "metadata": {
    "ExecuteTime": {
     "end_time": "2020-11-16T23:26:41.100894Z",
     "start_time": "2020-11-16T23:26:04.934032Z"
    }
   },
   "outputs": [],
   "source": [
    "import string\n",
    "import numpy as np\n",
    "import glob\n",
    "import re\n",
    "import pickle\n",
    "from prettytable import PrettyTable\n",
    "from sklearn.linear_model import LogisticRegression\n",
    "from sklearn.metrics import accuracy_score\n",
    "from sklearn.metrics import confusion_matrix\n",
    "import matplotlib.pyplot as plt"
   ]
  },
  {
   "cell_type": "markdown",
   "metadata": {},
   "source": [
    "# File readings"
   ]
  },
  {
   "cell_type": "code",
   "execution_count": 3,
   "metadata": {
    "ExecuteTime": {
     "end_time": "2020-11-16T23:37:27.382456Z",
     "start_time": "2020-11-16T23:33:45.060539Z"
    }
   },
   "outputs": [],
   "source": [
    "train_negative_path = \"Dataset/train/neg/\"  # path to positive training reviews\n",
    "train_positive_path = \"Dataset/train/pos/\" # path to negative training reviews\n",
    "test_negative_path = \"Dataset/test/neg/\"  # path to positive test reviews\n",
    "test_positive_path = \"Dataset/test/pos/\" # path to negative test reviews\n",
    "trainx = [] # list containing train movie reviews\n",
    "trainy = [] # list containing train labels\n",
    "testx = [] # list containing test movie reviews\n",
    "testy = [] # list containing test labels\n",
    "\n",
    "# function for reading negative and positive reviews into list\n",
    "def readFiles(path, clas, signal):\n",
    "    for file in glob.iglob(path + \"/\" + \"*.txt\"):\n",
    "        with open(file, encoding='utf-8') as f:\n",
    "            data = f.read()\n",
    "            if signal == \"train\":\n",
    "                trainx.append(data)\n",
    "            else:\n",
    "                testx.append(data)\n",
    "            if clas == \"neg\" and signal == \"train\":\n",
    "                trainy.append(0)\n",
    "            elif clas == \"pos\" and signal == \"train\":\n",
    "                trainy.append(1)\n",
    "            elif clas == \"neg\" and signal == \"test\":\n",
    "                testy.append(0)\n",
    "            else:\n",
    "                testy.append(1)\n",
    "\n",
    "readFiles(train_negative_path, \"neg\", \"train\")\n",
    "readFiles(train_positive_path, \"pos\", \"train\")\n",
    "readFiles(train_negative_path, \"neg\", \"test\")\n",
    "readFiles(train_positive_path, \"pos\", \"test\")"
   ]
  },
  {
   "cell_type": "code",
   "execution_count": 4,
   "metadata": {
    "ExecuteTime": {
     "end_time": "2020-11-16T23:37:35.778891Z",
     "start_time": "2020-11-16T23:37:35.449256Z"
    }
   },
   "outputs": [],
   "source": [
    "# reading stopwords\n",
    "stop_words = [] # list containing stop words\n",
    "stop_words_path = \"Dataset/stop_words.txt\"  # path to stop words\n",
    "readingStopWords = open(stop_words_path, 'r')\n",
    "for word in readingStopWords:\n",
    "    word = word.strip('\\n')\n",
    "    stop_words.append(word)"
   ]
  },
  {
   "cell_type": "code",
   "execution_count": 5,
   "metadata": {
    "ExecuteTime": {
     "end_time": "2020-11-16T23:37:37.244802Z",
     "start_time": "2020-11-16T23:37:37.128078Z"
    }
   },
   "outputs": [],
   "source": [
    "# reading negative lexicon\n",
    "negatives = []\n",
    "negative_words_path = \"Dataset/negative_words.txt\"\n",
    "readingNegativeWords = open(negative_words_path, 'r')\n",
    "for word in readingNegativeWords:\n",
    "    word = word.strip('\\n')\n",
    "    negatives.append(word)"
   ]
  },
  {
   "cell_type": "code",
   "execution_count": 6,
   "metadata": {
    "ExecuteTime": {
     "end_time": "2020-11-16T23:37:38.226234Z",
     "start_time": "2020-11-16T23:37:37.697796Z"
    }
   },
   "outputs": [],
   "source": [
    "# reading positive lexicon\n",
    "positives = []\n",
    "positive_words_path = \"Dataset/positive_words.txt\"\n",
    "readingPositiveWords = open(positive_words_path, 'r')\n",
    "for word in readingPositiveWords:\n",
    "    word = word.strip('\\n')\n",
    "    positives.append(word)"
   ]
  },
  {
   "cell_type": "markdown",
   "metadata": {},
   "source": [
    "# Preprocessing"
   ]
  },
  {
   "cell_type": "code",
   "execution_count": 7,
   "metadata": {
    "ExecuteTime": {
     "end_time": "2020-11-16T23:37:40.317607Z",
     "start_time": "2020-11-16T23:37:40.286641Z"
    }
   },
   "outputs": [],
   "source": [
    "# function for preprocessing\n",
    "def preprocess(signal):\n",
    "    if signal == \"train\":\n",
    "        for i in range(len(trainx)):\n",
    "            text = trainx[i]\n",
    "\n",
    "            # lower casing\n",
    "            text = text.lower()\n",
    "\n",
    "            # removing stop words\n",
    "            for word in stop_words:\n",
    "                text = text.replace(\" \" + word + \" \", \" \")\n",
    "\n",
    "            # removing html characters\n",
    "            text = re.sub(re.compile('<.*?>'), '', text)\n",
    "\n",
    "            # removing punctuations\n",
    "            withoutPunct = \"\"\n",
    "            for c in text:\n",
    "                if c not in string.punctuation:\n",
    "                    withoutPunct = withoutPunct + c\n",
    "            text = withoutPunct\n",
    "\n",
    "            trainx[i] = text\n",
    "            \n",
    "    else:\n",
    "        for i in range(len(testx)):\n",
    "            text = testx[i]\n",
    "\n",
    "            # lower casing\n",
    "            text = text.lower()\n",
    "\n",
    "            # removing stop words\n",
    "            for word in stop_words:\n",
    "                text = text.replace(\" \" + word + \" \", \" \")\n",
    "\n",
    "            # removing html characters\n",
    "            text = re.sub(re.compile('<.*?>'), '', text)\n",
    "\n",
    "            # removing punctuations\n",
    "            withoutPunct = \"\"\n",
    "            for c in text:\n",
    "                if c not in string.punctuation:\n",
    "                    withoutPunct = withoutPunct + c\n",
    "            text = withoutPunct\n",
    "\n",
    "            testx[i] = text"
   ]
  },
  {
   "cell_type": "code",
   "execution_count": 8,
   "metadata": {
    "ExecuteTime": {
     "end_time": "2020-11-16T23:38:52.685368Z",
     "start_time": "2020-11-16T23:37:44.898982Z"
    }
   },
   "outputs": [],
   "source": [
    "# now preprocessing\n",
    "preprocess(\"train\")\n",
    "preprocess(\"test\")"
   ]
  },
  {
   "cell_type": "markdown",
   "metadata": {},
   "source": [
    "# Feature extraction"
   ]
  },
  {
   "cell_type": "code",
   "execution_count": 9,
   "metadata": {
    "ExecuteTime": {
     "end_time": "2020-11-16T23:38:59.311150Z",
     "start_time": "2020-11-16T23:38:59.282095Z"
    }
   },
   "outputs": [],
   "source": [
    "# function to extract features\n",
    "# x0 = bias term = 1\n",
    "# x1 = count(positives)\n",
    "# x2 = count(negatives)\n",
    "# format -> (x0, x1, x2)\n",
    "\n",
    "features_trainx = []\n",
    "features_testx = []\n",
    "\n",
    "def extract_features(signal):\n",
    "    # features\n",
    "    x0 = 1\n",
    "    x1 = None\n",
    "    x2 = None\n",
    "    \n",
    "    if signal == \"train\":\n",
    "        for text in trainx:\n",
    "            text = text.split()\n",
    "\n",
    "            # calculating feature x1\n",
    "            vec = []\n",
    "            for v in positives:\n",
    "                vec.append(text.count(v))\n",
    "            x1 = sum(vec)\n",
    "\n",
    "            # calculating feature x2\n",
    "            vec = []\n",
    "            for v in negatives:\n",
    "                vec.append(text.count(v))\n",
    "            x2 = sum(vec)\n",
    "\n",
    "            tuplee = [x0, x1, x2]\n",
    "            features_trainx.append(tuplee)\n",
    "            \n",
    "    else:\n",
    "        for text in testx:\n",
    "            text = text.split()\n",
    "\n",
    "            # calculating feature x1\n",
    "            vec = []\n",
    "            for v in positives:\n",
    "                vec.append(text.count(v))\n",
    "            x1 = sum(vec)\n",
    "\n",
    "            # calculating feature x2\n",
    "            vec = []\n",
    "            for v in negatives:\n",
    "                vec.append(text.count(v))\n",
    "            x2 = sum(vec)\n",
    "\n",
    "            tuplee = [x0, x1, x2]\n",
    "            features_testx.append(tuplee)"
   ]
  },
  {
   "cell_type": "code",
   "execution_count": 10,
   "metadata": {
    "ExecuteTime": {
     "end_time": "2020-11-16T23:39:01.083753Z",
     "start_time": "2020-11-16T23:39:01.077688Z"
    }
   },
   "outputs": [],
   "source": [
    "# now extracting features\n",
    "# DONT RUN THIS. THIS TAKES AROUND 20 TO 26 MINUTES for both train and test!!\n",
    "# I saved the features in pickle files so only run the bottom cell to load provided pickle files\n",
    "\n",
    "# extract_features(\"train\")\n",
    "# extract_features(\"test\")"
   ]
  },
  {
   "cell_type": "code",
   "execution_count": 11,
   "metadata": {
    "ExecuteTime": {
     "end_time": "2020-11-16T23:39:24.109901Z",
     "start_time": "2020-11-16T23:39:23.679568Z"
    }
   },
   "outputs": [],
   "source": [
    "# loading from pickle (train features and test features)\n",
    "\n",
    "features_trainx = None\n",
    "features_testx = None\n",
    "\n",
    "with open('featuresTrain.pkl', 'rb') as f:\n",
    "    features_trainx = pickle.load(f)\n",
    "    \n",
    "with open('featuresTest.pkl', 'rb') as f:\n",
    "    features_testx = pickle.load(f)"
   ]
  },
  {
   "cell_type": "code",
   "execution_count": 12,
   "metadata": {
    "ExecuteTime": {
     "end_time": "2020-11-16T23:39:27.577586Z",
     "start_time": "2020-11-16T23:39:27.468880Z"
    }
   },
   "outputs": [],
   "source": [
    "trainx = np.array(features_trainx) # converting to numpy lists\n",
    "trainy = np.array(trainy) # converting to numpy lists\n",
    "trainx = trainx.T\n",
    "trainy = trainy.reshape((trainy.size, -1))\n",
    "\n",
    "testx = np.array(features_testx) # converting to numpy lists\n",
    "testy = np.array(testy) # converting to numpy lists\n",
    "testx = testx.T\n",
    "testy = testy.reshape((testy.size, -1))"
   ]
  },
  {
   "cell_type": "code",
   "execution_count": 13,
   "metadata": {
    "ExecuteTime": {
     "end_time": "2020-11-16T23:39:28.387048Z",
     "start_time": "2020-11-16T23:39:28.365056Z"
    }
   },
   "outputs": [
    {
     "name": "stdout",
     "output_type": "stream",
     "text": [
      "(3, 25000)\n",
      "(25000, 1)\n",
      "\n",
      "(3, 25000)\n",
      "(25000, 1)\n"
     ]
    }
   ],
   "source": [
    "print(trainx.shape)\n",
    "print(trainy.shape)\n",
    "print('')\n",
    "print(testx.shape)\n",
    "print(testy.shape)"
   ]
  },
  {
   "cell_type": "markdown",
   "metadata": {
    "ExecuteTime": {
     "end_time": "2020-11-08T21:54:32.851603Z",
     "start_time": "2020-11-08T21:54:32.829609Z"
    }
   },
   "source": [
    "# Part 1"
   ]
  },
  {
   "cell_type": "markdown",
   "metadata": {},
   "source": [
    "## Sigmoid function"
   ]
  },
  {
   "cell_type": "code",
   "execution_count": 14,
   "metadata": {
    "ExecuteTime": {
     "end_time": "2020-11-16T23:39:36.659524Z",
     "start_time": "2020-11-16T23:39:36.645513Z"
    }
   },
   "outputs": [],
   "source": [
    "def sigmoid(z):\n",
    "    return (1 / (1 + np.exp(-z)))"
   ]
  },
  {
   "cell_type": "markdown",
   "metadata": {
    "ExecuteTime": {
     "end_time": "2020-11-08T22:10:25.616683Z",
     "start_time": "2020-11-08T22:10:25.595684Z"
    }
   },
   "source": [
    "## Hypothesis function"
   ]
  },
  {
   "cell_type": "code",
   "execution_count": 15,
   "metadata": {
    "ExecuteTime": {
     "end_time": "2020-11-16T23:39:39.258871Z",
     "start_time": "2020-11-16T23:39:39.247896Z"
    }
   },
   "outputs": [],
   "source": [
    "def hyp(theta, x):\n",
    "    return (np.matmul(theta.T, x))"
   ]
  },
  {
   "cell_type": "markdown",
   "metadata": {},
   "source": [
    "## Cross entropy loss function"
   ]
  },
  {
   "cell_type": "code",
   "execution_count": 16,
   "metadata": {
    "ExecuteTime": {
     "end_time": "2020-11-16T23:39:40.990033Z",
     "start_time": "2020-11-16T23:39:40.980062Z"
    }
   },
   "outputs": [],
   "source": [
    "def crossEntropyLoss(x, y, theta):\n",
    "    m = y.size\n",
    "    hx = hyp(theta, x)\n",
    "    sig = sigmoid(hx)\n",
    "    sig = sig.T\n",
    "    return (-1 / m) * np.sum(y * np.log2(sig + 1e-10) + (1 - y) * np.log2(1 - sig + 1e-10))"
   ]
  },
  {
   "cell_type": "markdown",
   "metadata": {},
   "source": [
    "## Batch gradient descent function"
   ]
  },
  {
   "cell_type": "code",
   "execution_count": 20,
   "metadata": {
    "ExecuteTime": {
     "end_time": "2020-11-16T23:51:04.695980Z",
     "start_time": "2020-11-16T23:51:04.677070Z"
    }
   },
   "outputs": [],
   "source": [
    "def gradientDescent(x, y, n_epoch, alpha):\n",
    "    print(\"Running for alpha = \", alpha)\n",
    "    print('')\n",
    "    m = y.size # 25000\n",
    "    J = list() # costs\n",
    "    theta = np.array([0] * 3)\n",
    "    theta = theta.reshape((-1, 1))\n",
    "    for epoch in range(n_epoch):\n",
    "        sig = sigmoid(hyp(theta, x)).flatten() - y.flatten()\n",
    "        sig = sig.reshape(m, -1) # shape -> (25000 1)\n",
    "        lst = []\n",
    "\n",
    "        for i in range(m):\n",
    "            lst.append(sig[i] * x.T[i])\n",
    "            \n",
    "        summation = np.sum(lst, axis=0)\n",
    "            \n",
    "        grad = (1.0 / m) * summation\n",
    "        grad = grad.reshape((-1, 1))\n",
    "        temp = theta - alpha * grad\n",
    "        theta = temp\n",
    "        \n",
    "        # computing cross entropy loss\n",
    "        loss = crossEntropyLoss(x, y, theta)\n",
    "        J.append(loss)\n",
    "        \n",
    "        if (epoch % 100 == 0 and epoch != 0):\n",
    "            print(epoch, \" epochs completed\")\n",
    "            \n",
    "        if (epoch == 1499):\n",
    "            print(\"1500 epochs completed\")\n",
    "            \n",
    "    print(\"\")\n",
    "    print(\"BGD Completed!\")\n",
    "    print(\"\")\n",
    "    print(\"Updated parameters\")\n",
    "    print(theta)\n",
    "    print('')\n",
    "    print('-----------------------------------------------------------')\n",
    "    print('')\n",
    "        \n",
    "    return theta, J"
   ]
  },
  {
   "cell_type": "markdown",
   "metadata": {},
   "source": [
    "## Predict function"
   ]
  },
  {
   "cell_type": "code",
   "execution_count": 18,
   "metadata": {
    "ExecuteTime": {
     "end_time": "2020-11-16T23:39:44.934610Z",
     "start_time": "2020-11-16T23:39:44.916606Z"
    }
   },
   "outputs": [],
   "source": [
    "def predict(theta, x):\n",
    "    hx = hyp(theta, x)\n",
    "    sig = sigmoid(hx)\n",
    "    sig = sig.T\n",
    "    lst = []\n",
    "    for i in range(25000):\n",
    "        if sig[i] >= 0.5:\n",
    "            lst.append(1)\n",
    "        else:\n",
    "            lst.append(0)\n",
    "    return lst"
   ]
  },
  {
   "cell_type": "markdown",
   "metadata": {},
   "source": [
    "## Now performing batch gradient descent"
   ]
  },
  {
   "cell_type": "code",
   "execution_count": 21,
   "metadata": {
    "ExecuteTime": {
     "end_time": "2020-11-16T23:51:09.370926Z",
     "start_time": "2020-11-16T23:51:09.352014Z"
    }
   },
   "outputs": [],
   "source": [
    "# will find optimal value of alpha by running gradient descent on these 9 alpha values\n",
    "# will then plot graph of costs against iters to visualize results and find best alpha value\n",
    "\n",
    "alphas = [0.01, 0.02, 0.03, 0.04, 0.05, 0.06, 0.07, 0.08, 0.09]\n",
    "costs = []\n",
    "theetas = []"
   ]
  },
  {
   "cell_type": "code",
   "execution_count": 22,
   "metadata": {
    "ExecuteTime": {
     "end_time": "2020-11-17T00:27:30.714439Z",
     "start_time": "2020-11-16T23:51:12.754600Z"
    },
    "scrolled": true
   },
   "outputs": [
    {
     "name": "stdout",
     "output_type": "stream",
     "text": [
      "Running for alpha =  0.01\n",
      "\n",
      "100  epochs completed\n",
      "200  epochs completed\n",
      "300  epochs completed\n",
      "400  epochs completed\n",
      "500  epochs completed\n",
      "600  epochs completed\n",
      "700  epochs completed\n",
      "800  epochs completed\n",
      "900  epochs completed\n",
      "1000  epochs completed\n",
      "1100  epochs completed\n",
      "1200  epochs completed\n",
      "1300  epochs completed\n",
      "1400  epochs completed\n",
      "1500 epochs completed\n",
      "\n",
      "BGD Completed!\n",
      "\n",
      "Updated parameters\n",
      "[[-0.16846414]\n",
      " [ 0.19533985]\n",
      " [-0.1844968 ]]\n",
      "\n",
      "-----------------------------------------------------------\n",
      "\n",
      "Running for alpha =  0.02\n",
      "\n",
      "100  epochs completed\n",
      "200  epochs completed\n",
      "300  epochs completed\n",
      "400  epochs completed\n",
      "500  epochs completed\n",
      "600  epochs completed\n",
      "700  epochs completed\n",
      "800  epochs completed\n",
      "900  epochs completed\n",
      "1000  epochs completed\n",
      "1100  epochs completed\n",
      "1200  epochs completed\n",
      "1300  epochs completed\n",
      "1400  epochs completed\n",
      "1500 epochs completed\n",
      "\n",
      "BGD Completed!\n",
      "\n",
      "Updated parameters\n",
      "[[-0.23525325]\n",
      " [ 0.19916142]\n",
      " [-0.18302543]]\n",
      "\n",
      "-----------------------------------------------------------\n",
      "\n",
      "Running for alpha =  0.03\n",
      "\n",
      "100  epochs completed\n",
      "200  epochs completed\n",
      "300  epochs completed\n",
      "400  epochs completed\n",
      "500  epochs completed\n",
      "600  epochs completed\n",
      "700  epochs completed\n",
      "800  epochs completed\n",
      "900  epochs completed\n",
      "1000  epochs completed\n",
      "1100  epochs completed\n",
      "1200  epochs completed\n",
      "1300  epochs completed\n",
      "1400  epochs completed\n",
      "1500 epochs completed\n",
      "\n",
      "BGD Completed!\n",
      "\n",
      "Updated parameters\n",
      "[[-0.26124329]\n",
      " [ 0.20068145]\n",
      " [-0.18248435]]\n",
      "\n",
      "-----------------------------------------------------------\n",
      "\n",
      "Running for alpha =  0.04\n",
      "\n",
      "100  epochs completed\n",
      "200  epochs completed\n",
      "300  epochs completed\n",
      "400  epochs completed\n",
      "500  epochs completed\n",
      "600  epochs completed\n",
      "700  epochs completed\n",
      "800  epochs completed\n",
      "900  epochs completed\n",
      "1000  epochs completed\n",
      "1100  epochs completed\n",
      "1200  epochs completed\n",
      "1300  epochs completed\n",
      "1400  epochs completed\n",
      "1500 epochs completed\n",
      "\n",
      "BGD Completed!\n",
      "\n",
      "Updated parameters\n",
      "[[-0.27138153]\n",
      " [ 0.20127938]\n",
      " [-0.18227803]]\n",
      "\n",
      "-----------------------------------------------------------\n",
      "\n",
      "Running for alpha =  0.05\n",
      "\n",
      "100  epochs completed\n",
      "200  epochs completed\n",
      "300  epochs completed\n",
      "400  epochs completed\n",
      "500  epochs completed\n",
      "600  epochs completed\n",
      "700  epochs completed\n",
      "800  epochs completed\n",
      "900  epochs completed\n",
      "1000  epochs completed\n",
      "1100  epochs completed\n",
      "1200  epochs completed\n",
      "1300  epochs completed\n",
      "1400  epochs completed\n",
      "1500 epochs completed\n",
      "\n",
      "BGD Completed!\n",
      "\n",
      "Updated parameters\n",
      "[[-0.2770114 ]\n",
      " [ 0.19676092]\n",
      " [-0.18858201]]\n",
      "\n",
      "-----------------------------------------------------------\n",
      "\n",
      "Running for alpha =  0.06\n",
      "\n",
      "100  epochs completed\n",
      "200  epochs completed\n",
      "300  epochs completed\n",
      "400  epochs completed\n",
      "500  epochs completed\n",
      "600  epochs completed\n",
      "700  epochs completed\n",
      "800  epochs completed\n",
      "900  epochs completed\n",
      "1000  epochs completed\n",
      "1100  epochs completed\n",
      "1200  epochs completed\n",
      "1300  epochs completed\n",
      "1400  epochs completed\n",
      "1500 epochs completed\n",
      "\n",
      "BGD Completed!\n",
      "\n",
      "Updated parameters\n",
      "[[-0.34355251]\n",
      " [ 0.20675947]\n",
      " [-0.2778842 ]]\n",
      "\n",
      "-----------------------------------------------------------\n",
      "\n",
      "Running for alpha =  0.07\n",
      "\n",
      "100  epochs completed\n",
      "200  epochs completed\n",
      "300  epochs completed\n",
      "400  epochs completed\n",
      "500  epochs completed\n",
      "600  epochs completed\n",
      "700  epochs completed\n",
      "800  epochs completed\n",
      "900  epochs completed\n",
      "1000  epochs completed\n",
      "1100  epochs completed\n",
      "1200  epochs completed\n",
      "1300  epochs completed\n",
      "1400  epochs completed\n",
      "1500 epochs completed\n",
      "\n",
      "BGD Completed!\n",
      "\n",
      "Updated parameters\n",
      "[[-0.40480849]\n",
      " [ 0.23362256]\n",
      " [-0.34840137]]\n",
      "\n",
      "-----------------------------------------------------------\n",
      "\n",
      "Running for alpha =  0.08\n",
      "\n",
      "100  epochs completed\n",
      "200  epochs completed\n",
      "300  epochs completed\n",
      "400  epochs completed\n",
      "500  epochs completed\n",
      "600  epochs completed\n",
      "700  epochs completed\n",
      "800  epochs completed\n",
      "900  epochs completed\n",
      "1000  epochs completed\n",
      "1100  epochs completed\n",
      "1200  epochs completed\n",
      "1300  epochs completed\n",
      "1400  epochs completed\n",
      "1500 epochs completed\n",
      "\n",
      "BGD Completed!\n",
      "\n",
      "Updated parameters\n",
      "[[-0.463495  ]\n",
      " [ 0.26275891]\n",
      " [-0.41551359]]\n",
      "\n",
      "-----------------------------------------------------------\n",
      "\n",
      "Running for alpha =  0.09\n",
      "\n",
      "100  epochs completed\n",
      "200  epochs completed\n",
      "300  epochs completed\n",
      "400  epochs completed\n",
      "500  epochs completed\n",
      "600  epochs completed\n",
      "700  epochs completed\n",
      "800  epochs completed\n",
      "900  epochs completed\n",
      "1000  epochs completed\n",
      "1100  epochs completed\n",
      "1200  epochs completed\n",
      "1300  epochs completed\n",
      "1400  epochs completed\n",
      "1500 epochs completed\n",
      "\n",
      "BGD Completed!\n",
      "\n",
      "Updated parameters\n",
      "[[-0.52084864]\n",
      " [ 0.29284234]\n",
      " [-0.48094727]]\n",
      "\n",
      "-----------------------------------------------------------\n",
      "\n"
     ]
    }
   ],
   "source": [
    "# This will take around 36 minutes to execute\n",
    "\n",
    "J = None # costs\n",
    "theta = None # weights\n",
    "n_epoch = 1500\n",
    "\n",
    "for alpha in alphas:\n",
    "    theta, J = gradientDescent(trainx, trainy, n_epoch, alpha)\n",
    "    theetas.append(theta)\n",
    "    costs.append(J)"
   ]
  },
  {
   "cell_type": "markdown",
   "metadata": {},
   "source": [
    "## Plotting loss against epochs to determine best alpha value"
   ]
  },
  {
   "cell_type": "code",
   "execution_count": 35,
   "metadata": {
    "ExecuteTime": {
     "end_time": "2020-11-17T00:52:20.304075Z",
     "start_time": "2020-11-17T00:52:17.542744Z"
    }
   },
   "outputs": [
    {
     "data": {
      "image/png": "[encoded data removed]",
      "text/plain": [
       "<Figure size 432x288 with 1 Axes>"
      ]
     },
     "metadata": {
      "needs_background": "light"
     },
     "output_type": "display_data"
    },
    {
     "data": {
      "image/png": "[encoded data removed]",
      "text/plain": [
       "<Figure size 432x288 with 1 Axes>"
      ]
     },
     "metadata": {
      "needs_background": "light"
     },
     "output_type": "display_data"
    },
    {
     "data": {
      "image/png": "[encoded data removed]",
      "text/plain": [
       "<Figure size 432x288 with 1 Axes>"
      ]
     },
     "metadata": {
      "needs_background": "light"
     },
     "output_type": "display_data"
    },
    {
     "data": {
      "image/png": "[encoded data removed]",
      "text/plain": [
       "<Figure size 432x288 with 1 Axes>"
      ]
     },
     "metadata": {
      "needs_background": "light"
     },
     "output_type": "display_data"
    },
    {
     "data": {
      "image/png": "[encoded data removed]",
      "text/plain": [
       "<Figure size 432x288 with 1 Axes>"
      ]
     },
     "metadata": {
      "needs_background": "light"
     },
     "output_type": "display_data"
    },
    {
     "data": {
      "image/png": "[encoded data removed]",
      "text/plain": [
       "<Figure size 432x288 with 1 Axes>"
      ]
     },
     "metadata": {
      "needs_background": "light"
     },
     "output_type": "display_data"
    },
    {
     "data": {
      "image/png": "[encoded data removed]",
      "text/plain": [
       "<Figure size 432x288 with 1 Axes>"
      ]
     },
     "metadata": {
      "needs_background": "light"
     },
     "output_type": "display_data"
    },
    {
     "data": {
      "image/png": "[encoded data removed]",
      "text/plain": [
       "<Figure size 432x288 with 1 Axes>"
      ]
     },
     "metadata": {
      "needs_background": "light"
     },
     "output_type": "display_data"
    },
    {
     "data": {
      "image/png": "[encoded data removed]",
      "text/plain": [
       "<Figure size 432x288 with 1 Axes>"
      ]
     },
     "metadata": {
      "needs_background": "light"
     },
     "output_type": "display_data"
    }
   ],
   "source": [
    "iters = [i for i in range(1, n_epoch + 1, 1)]\n",
    "for i in range(len(alphas)):\n",
    "    plt.plot(iters, costs[i])\n",
    "    plt.xlabel('Epochs')\n",
    "    plt.ylabel('Training loss')\n",
    "    plt.title(\"Training loss vs Epochs for alpha = \" + str(alphas[i]))\n",
    "    plt.show()"
   ]
  },
  {
   "cell_type": "markdown",
   "metadata": {},
   "source": [
    "### Hence, best alpha value is 0.01"
   ]
  },
  {
   "cell_type": "markdown",
   "metadata": {},
   "source": [
    "## Now predicting for test data"
   ]
  },
  {
   "cell_type": "code",
   "execution_count": 38,
   "metadata": {
    "ExecuteTime": {
     "end_time": "2020-11-17T00:53:45.674358Z",
     "start_time": "2020-11-17T00:53:45.600500Z"
    }
   },
   "outputs": [],
   "source": [
    "pred = predict(theetas[0], testx)"
   ]
  },
  {
   "cell_type": "markdown",
   "metadata": {},
   "source": [
    "## Evaluating on test data"
   ]
  },
  {
   "cell_type": "code",
   "execution_count": 39,
   "metadata": {
    "ExecuteTime": {
     "end_time": "2020-11-17T00:53:47.463939Z",
     "start_time": "2020-11-17T00:53:47.381121Z"
    }
   },
   "outputs": [
    {
     "name": "stdout",
     "output_type": "stream",
     "text": [
      "Accuracy on test set:  72.956 %\n"
     ]
    }
   ],
   "source": [
    "acc = 0\n",
    "for i in range(25000):\n",
    "    if pred[i] == testy[i]:\n",
    "        acc = acc + 1\n",
    "        \n",
    "acc = acc / 25000\n",
    "\n",
    "acc = acc * 100\n",
    "\n",
    "print(\"Accuracy on test set: \", acc, \"%\")"
   ]
  },
  {
   "cell_type": "markdown",
   "metadata": {},
   "source": [
    "## Confusion matrix on test set"
   ]
  },
  {
   "cell_type": "code",
   "execution_count": 40,
   "metadata": {
    "ExecuteTime": {
     "end_time": "2020-11-17T00:53:54.259733Z",
     "start_time": "2020-11-17T00:53:54.059125Z"
    }
   },
   "outputs": [
    {
     "name": "stdout",
     "output_type": "stream",
     "text": [
      "Confusion Matrix\n",
      "\n",
      "+----------+----------+----------+\n",
      "|    -     | positive | negative |\n",
      "+----------+----------+----------+\n",
      "| positive |   9338   |   3162   |\n",
      "| negative |   3599   |   8901   |\n",
      "+----------+----------+----------+\n"
     ]
    }
   ],
   "source": [
    "pp = 0 # true positives\n",
    "pn = 0 # false negatives\n",
    "np = 0 # false positives\n",
    "nn = 0 # true negatives\n",
    "\n",
    "for i in range(25000):\n",
    "    if testy[i] == 1 and pred[i] == 1:\n",
    "        pp = pp + 1\n",
    "    elif testy[i] == 1 and pred[i] == 0:\n",
    "        pn = pn + 1\n",
    "    elif testy[i] == 0 and pred[i] == 1:\n",
    "        np = np + 1\n",
    "    elif testy[i] == 0 and pred[i] == 0:\n",
    "        nn = nn + 1\n",
    "\n",
    "mat = PrettyTable()\n",
    "mat.field_names = [\"-\", \"positive\", \"negative\"]\n",
    "mat.add_row([\"positive\", pp, pn])\n",
    "mat.add_row([\"negative\", np, nn])\n",
    "\n",
    "print(\"Confusion Matrix\")\n",
    "print(\"\")\n",
    "print(mat)"
   ]
  },
  {
   "cell_type": "markdown",
   "metadata": {},
   "source": [
    "## Now plotting training loss against epochs for best alpha value"
   ]
  },
  {
   "cell_type": "code",
   "execution_count": 41,
   "metadata": {
    "ExecuteTime": {
     "end_time": "2020-11-17T00:53:57.586187Z",
     "start_time": "2020-11-17T00:53:57.275960Z"
    }
   },
   "outputs": [
    {
     "data": {
      "image/png": "[encoded data removed]",
      "text/plain": [
       "<Figure size 432x288 with 1 Axes>"
      ]
     },
     "metadata": {
      "needs_background": "light"
     },
     "output_type": "display_data"
    }
   ],
   "source": [
    "# best alpha value came out to be 0.01 as shown above\n",
    "\n",
    "iters = [i for i in range(1, n_epoch + 1, 1)]\n",
    "plt.plot(iters, costs[0])\n",
    "plt.xlabel('Epochs')\n",
    "plt.ylabel('Training loss')\n",
    "plt.title(\"Training loss vs Epochs\")\n",
    "plt.show()"
   ]
  },
  {
   "cell_type": "markdown",
   "metadata": {
    "ExecuteTime": {
     "end_time": "2020-11-09T23:08:24.094388Z",
     "start_time": "2020-11-09T23:08:24.082406Z"
    }
   },
   "source": [
    "# Part 2"
   ]
  },
  {
   "cell_type": "code",
   "execution_count": 204,
   "metadata": {
    "ExecuteTime": {
     "end_time": "2020-11-10T11:47:03.427374Z",
     "start_time": "2020-11-10T11:47:02.845583Z"
    }
   },
   "outputs": [
    {
     "name": "stderr",
     "output_type": "stream",
     "text": [
      "C:\\Users\\gs\\Anaconda3\\lib\\site-packages\\sklearn\\utils\\validation.py:760: DataConversionWarning: A column-vector y was passed when a 1d array was expected. Please change the shape of y to (n_samples, ), for example using ravel().\n",
      "  y = column_or_1d(y, warn=True)\n"
     ]
    }
   ],
   "source": [
    "clf = LogisticRegression(random_state=0).fit(trainx.T, trainy)"
   ]
  },
  {
   "cell_type": "code",
   "execution_count": 205,
   "metadata": {
    "ExecuteTime": {
     "end_time": "2020-11-10T11:47:04.044761Z",
     "start_time": "2020-11-10T11:47:04.023822Z"
    }
   },
   "outputs": [
    {
     "data": {
      "text/plain": [
       "array([0, 0, 1, ..., 0, 1, 1])"
      ]
     },
     "execution_count": 205,
     "metadata": {},
     "output_type": "execute_result"
    }
   ],
   "source": [
    "pred = clf.predict(testx.T)\n",
    "pred"
   ]
  },
  {
   "cell_type": "code",
   "execution_count": 206,
   "metadata": {
    "ExecuteTime": {
     "end_time": "2020-11-10T11:47:04.961873Z",
     "start_time": "2020-11-10T11:47:04.948908Z"
    }
   },
   "outputs": [
    {
     "data": {
      "text/plain": [
       "array([[0.67407977, 0.32592023],\n",
       "       [0.95033673, 0.04966327],\n",
       "       [0.35277651, 0.64722349],\n",
       "       ...,\n",
       "       [0.81769894, 0.18230106],\n",
       "       [0.32082625, 0.67917375],\n",
       "       [0.25937941, 0.74062059]])"
      ]
     },
     "execution_count": 206,
     "metadata": {},
     "output_type": "execute_result"
    }
   ],
   "source": [
    "clf.predict_proba(testx.T)"
   ]
  },
  {
   "cell_type": "code",
   "execution_count": 207,
   "metadata": {
    "ExecuteTime": {
     "end_time": "2020-11-10T11:47:06.126868Z",
     "start_time": "2020-11-10T11:47:06.110901Z"
    }
   },
   "outputs": [
    {
     "name": "stdout",
     "output_type": "stream",
     "text": [
      "Score:  0.7254\n"
     ]
    }
   ],
   "source": [
    "print(\"Score: \", clf.score(trainx.T, trainy))"
   ]
  },
  {
   "cell_type": "code",
   "execution_count": 210,
   "metadata": {
    "ExecuteTime": {
     "end_time": "2020-11-10T11:48:52.838177Z",
     "start_time": "2020-11-10T11:48:52.824205Z"
    }
   },
   "outputs": [
    {
     "name": "stdout",
     "output_type": "stream",
     "text": [
      "Accuracy on test set:  72.54 %\n"
     ]
    }
   ],
   "source": [
    "print(\"Accuracy on test set: \", accuracy_score(testy, pred) * 100, \"%\")"
   ]
  },
  {
   "cell_type": "code",
   "execution_count": 211,
   "metadata": {
    "ExecuteTime": {
     "end_time": "2020-11-10T11:48:57.694358Z",
     "start_time": "2020-11-10T11:48:57.633481Z"
    }
   },
   "outputs": [
    {
     "name": "stdout",
     "output_type": "stream",
     "text": [
      "Confusion matrix\n",
      "\n"
     ]
    },
    {
     "data": {
      "text/plain": [
       "array([[9070, 3430],\n",
       "       [3435, 9065]], dtype=int64)"
      ]
     },
     "execution_count": 211,
     "metadata": {},
     "output_type": "execute_result"
    }
   ],
   "source": [
    "print(\"Confusion matrix\")\n",
    "print(\"\")\n",
    "confusion_matrix(testy, pred)"
   ]
  },
  {
   "cell_type": "code",
   "execution_count": null,
   "metadata": {},
   "outputs": [],
   "source": []
  }
 ],
 "metadata": {
  "kernelspec": {
   "display_name": "Python 3",
   "language": "python",
   "name": "python3"
  },
  "language_info": {
   "codemirror_mode": {
    "name": "ipython",
    "version": 3
   },
   "file_extension": ".py",
   "mimetype": "text/x-python",
   "name": "python",
   "nbconvert_exporter": "python",
   "pygments_lexer": "ipython3",
   "version": "3.7.6"
  },
  "toc": {
   "base_numbering": 1,
   "nav_menu": {},
   "number_sections": true,
   "sideBar": true,
   "skip_h1_title": false,
   "title_cell": "Table of Contents",
   "title_sidebar": "Contents",
   "toc_cell": false,
   "toc_position": {},
   "toc_section_display": true,
   "toc_window_display": false
  }
 },
 "nbformat": 4,
 "nbformat_minor": 4
}
